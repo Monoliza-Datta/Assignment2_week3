{
 "cells": [
  {
   "cell_type": "code",
   "execution_count": null,
   "id": "00eee6a1-4ca7-4e24-ad36-82ceb651ddf1",
   "metadata": {},
   "outputs": [],
   "source": [
    "# Q1. Create a python program to sort the given list of tuples based on integer value using a lambda function.\n",
    "# [('Sachin Tendulkar', 34357), ('Ricky Ponting', 27483), ('Jack Kallis', 25534), ('Virat Kohli', 24936)]"
   ]
  },
  {
   "cell_type": "code",
   "execution_count": 14,
   "id": "b5e33171-a5ea-4730-a2ec-bfa4bd3ab4de",
   "metadata": {},
   "outputs": [],
   "source": [
    "list = [('Sachin Tendulkar', 34357), ('Ricky Ponting', 27483), ('Jack Kallis', 25534), ('Virat Kohli', 24936)]"
   ]
  },
  {
   "cell_type": "code",
   "execution_count": 16,
   "id": "1431c8e3-856a-438c-9afc-51e6778a3020",
   "metadata": {},
   "outputs": [],
   "source": [
    "sort_list = lambda list : list.sort()"
   ]
  },
  {
   "cell_type": "code",
   "execution_count": 19,
   "id": "a7578160-3668-4262-b060-a081cfc25f90",
   "metadata": {},
   "outputs": [],
   "source": [
    "sort_list(list)"
   ]
  },
  {
   "cell_type": "code",
   "execution_count": 11,
   "id": "233724ed-1a17-428b-b7f9-d032abc692e2",
   "metadata": {},
   "outputs": [
    {
     "data": {
      "text/plain": [
       "[('Jack Kallis', 25534),\n",
       " ('Ricky Ponting', 27483),\n",
       " ('Sachin Tendulkar', 34357),\n",
       " ('Virat Kohli', 24936)]"
      ]
     },
     "execution_count": 11,
     "metadata": {},
     "output_type": "execute_result"
    }
   ],
   "source": [
    "list"
   ]
  },
  {
   "cell_type": "code",
   "execution_count": null,
   "id": "d87353c7-8619-4984-8888-ddf5d8e8e5c3",
   "metadata": {},
   "outputs": [],
   "source": []
  },
  {
   "cell_type": "code",
   "execution_count": null,
   "id": "0deeff29-ed92-42fd-b951-3178a9cc8ff5",
   "metadata": {},
   "outputs": [],
   "source": [
    "# Q2. Write a Python Program to find the squares of all the numbers in the given list of integers using lambda and map functions. \n",
    "# [1, 2, 3, 4, 5, 6, 7, 8, 9, 10]"
   ]
  },
  {
   "cell_type": "code",
   "execution_count": null,
   "id": "c34598fc-e358-4c4e-bf38-79d08abfc4a7",
   "metadata": {},
   "outputs": [],
   "source": [
    "# solution2:"
   ]
  },
  {
   "cell_type": "code",
   "execution_count": 1,
   "id": "7f7e4c1b-b434-4ef3-8367-9163859df20b",
   "metadata": {},
   "outputs": [],
   "source": [
    "l = [1, 2, 3, 4, 5, 6, 7, 8, 9, 10]"
   ]
  },
  {
   "cell_type": "code",
   "execution_count": 2,
   "id": "eaa472ba-2063-499c-b2e1-81a882ae9d94",
   "metadata": {},
   "outputs": [
    {
     "data": {
      "text/plain": [
       "[1, 4, 9, 16, 25, 36, 49, 64, 81, 100]"
      ]
     },
     "execution_count": 2,
     "metadata": {},
     "output_type": "execute_result"
    }
   ],
   "source": [
    "list(map(lambda x: x**2, l))"
   ]
  },
  {
   "cell_type": "code",
   "execution_count": null,
   "id": "0de8bb40-bd55-4ca6-b9d2-7c0e9332dc0f",
   "metadata": {},
   "outputs": [],
   "source": []
  },
  {
   "cell_type": "code",
   "execution_count": null,
   "id": "9a7c2936-97d6-425c-b19c-57307b3939f1",
   "metadata": {},
   "outputs": [],
   "source": [
    "# Q3. Write a python program to convert the given list of integers into a tuple of strings. Use map and lambda functions\n",
    "\n",
    "#Given String: [1, 2, 3, 4, 5, 6, 7, 8, 9, 10]\n",
    "#Expected output: ('1', '2', '3', '4', '5', '6', '7', '8', '9', '10')"
   ]
  },
  {
   "cell_type": "code",
   "execution_count": null,
   "id": "6ed2cd49-85ff-48cf-83ac-525dfbce4a15",
   "metadata": {},
   "outputs": [],
   "source": [
    "# solution3:"
   ]
  },
  {
   "cell_type": "code",
   "execution_count": 23,
   "id": "869c0e54-2e4a-4265-9f25-51790adb8d72",
   "metadata": {},
   "outputs": [],
   "source": [
    "given = [1, 2, 3, 4, 5, 6, 7, 8, 9, 10]"
   ]
  },
  {
   "cell_type": "code",
   "execution_count": 37,
   "id": "577ad29b-a6bf-4553-94b0-5fe8f95a07ad",
   "metadata": {},
   "outputs": [],
   "source": [
    "given1 = iter(given)"
   ]
  },
  {
   "cell_type": "code",
   "execution_count": 42,
   "id": "bf785883-fe7a-4780-9c3e-e689841c22df",
   "metadata": {},
   "outputs": [
    {
     "data": {
      "text/plain": [
       "('1', '2', '3', '4', '5', '6', '7', '8', '9', '10')"
      ]
     },
     "execution_count": 42,
     "metadata": {},
     "output_type": "execute_result"
    }
   ],
   "source": [
    "tuple(map(lambda x : str(x), given))"
   ]
  },
  {
   "cell_type": "code",
   "execution_count": null,
   "id": "7b0d5d52-c3b0-447f-81bf-8636c8c3c8b8",
   "metadata": {},
   "outputs": [],
   "source": []
  },
  {
   "cell_type": "code",
   "execution_count": null,
   "id": "935ad722-d7ad-40ae-bad4-7885a3862ea1",
   "metadata": {},
   "outputs": [],
   "source": [
    "# Q4.  Write a python program using reduce function to compute the product of a list containing numbers from 1 to 25."
   ]
  },
  {
   "cell_type": "code",
   "execution_count": null,
   "id": "4770a04b-6038-481e-a642-d329e643e0ef",
   "metadata": {},
   "outputs": [],
   "source": [
    "# solution4:"
   ]
  },
  {
   "cell_type": "code",
   "execution_count": 60,
   "id": "f8b0407a-c594-4ec4-bfbd-de4fb25b15a8",
   "metadata": {},
   "outputs": [],
   "source": [
    "l = [1,2,3,4,5,6,7,8,9,10,11,12,13,14,15,16,17,18,19,20,21,22,23,24,25]"
   ]
  },
  {
   "cell_type": "code",
   "execution_count": 62,
   "id": "7526ea80-387f-4b8c-a660-a38aad8db174",
   "metadata": {},
   "outputs": [],
   "source": [
    "from functools import reduce"
   ]
  },
  {
   "cell_type": "code",
   "execution_count": 64,
   "id": "d8af67a5-854e-4103-98b9-c56ab99ac221",
   "metadata": {},
   "outputs": [
    {
     "data": {
      "text/plain": [
       "15511210043330985984000000"
      ]
     },
     "execution_count": 64,
     "metadata": {},
     "output_type": "execute_result"
    }
   ],
   "source": [
    "reduce(lambda x,y : x*y, l)"
   ]
  },
  {
   "cell_type": "code",
   "execution_count": null,
   "id": "626d6baa-3faa-4591-9457-493c31260b53",
   "metadata": {},
   "outputs": [],
   "source": []
  },
  {
   "cell_type": "code",
   "execution_count": null,
   "id": "1434e9e9-16c8-4bab-a64c-500c539b2587",
   "metadata": {},
   "outputs": [],
   "source": [
    "# Q5. Write a python program to filter the numbers in a given list that are divisible by 2 and 3 using the filter function.\n",
    "# [2, 3, 6, 9, 27, 60, 90, 120, 55, 46]"
   ]
  },
  {
   "cell_type": "code",
   "execution_count": null,
   "id": "4ade819f-9d1b-40ca-93cb-af9186d37207",
   "metadata": {},
   "outputs": [],
   "source": [
    "# solution5:"
   ]
  },
  {
   "cell_type": "code",
   "execution_count": 65,
   "id": "a3cbbe1c-ecbc-4333-9afa-dc05f835795a",
   "metadata": {},
   "outputs": [],
   "source": [
    "l = [2, 3, 6, 9, 27, 60, 90, 120, 55, 46]"
   ]
  },
  {
   "cell_type": "code",
   "execution_count": 67,
   "id": "52ed97d0-32e1-4662-893b-7551984c142b",
   "metadata": {},
   "outputs": [
    {
     "data": {
      "text/plain": [
       "[6, 60, 90, 120]"
      ]
     },
     "execution_count": 67,
     "metadata": {},
     "output_type": "execute_result"
    }
   ],
   "source": [
    "list(filter(lambda x : x%2 == 0 and x%3 == 0, l))"
   ]
  },
  {
   "cell_type": "code",
   "execution_count": null,
   "id": "48caad40-1409-48ec-8d4d-9fcc1848e4b0",
   "metadata": {},
   "outputs": [],
   "source": []
  },
  {
   "cell_type": "code",
   "execution_count": null,
   "id": "eb7e16f9-06e1-4db9-bae7-cce21df2546b",
   "metadata": {},
   "outputs": [],
   "source": [
    "# Q6. Write a python program to find palindromes in the given list of strings using lambda and filter function.\n",
    "\n",
    "# ['python', 'php', 'aba', 'radar', 'level']"
   ]
  },
  {
   "cell_type": "code",
   "execution_count": null,
   "id": "a7f1dc45-3303-42e3-a779-335e26a81e96",
   "metadata": {},
   "outputs": [],
   "source": [
    "# solution6:"
   ]
  },
  {
   "cell_type": "code",
   "execution_count": 73,
   "id": "5ca9cc93-1e13-4271-bfae-85c9247791b9",
   "metadata": {},
   "outputs": [],
   "source": [
    "pali_find = ['python', 'php', 'aba', 'radar', 'level']"
   ]
  },
  {
   "cell_type": "code",
   "execution_count": 75,
   "id": "3d3418ef-8a3e-4dd3-be0a-db10108fbb78",
   "metadata": {},
   "outputs": [
    {
     "data": {
      "text/plain": [
       "['php', 'aba', 'radar', 'level']"
      ]
     },
     "execution_count": 75,
     "metadata": {},
     "output_type": "execute_result"
    }
   ],
   "source": [
    "list(filter(lambda x: x == x[::-1], pali_find))"
   ]
  }
 ],
 "metadata": {
  "kernelspec": {
   "display_name": "Python 3 (ipykernel)",
   "language": "python",
   "name": "python3"
  },
  "language_info": {
   "codemirror_mode": {
    "name": "ipython",
    "version": 3
   },
   "file_extension": ".py",
   "mimetype": "text/x-python",
   "name": "python",
   "nbconvert_exporter": "python",
   "pygments_lexer": "ipython3",
   "version": "3.10.8"
  }
 },
 "nbformat": 4,
 "nbformat_minor": 5
}
